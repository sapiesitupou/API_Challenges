{
 "cells": [
  {
   "cell_type": "markdown",
   "metadata": {},
   "source": [
    "# WeatherPy\n",
    "----\n",
    "\n",
    "#### Note\n",
    "* Instructions have been included for each segment. You do not have to follow them exactly, but they are included to help you think through the steps."
   ]
  },
  {
   "cell_type": "code",
   "execution_count": 1,
   "metadata": {
    "scrolled": true
   },
   "outputs": [],
   "source": [
    "# Dependencies and Setup\n",
    "import matplotlib.pyplot as plt\n",
    "import pandas as pd\n",
    "import numpy as np\n",
    "import requests\n",
    "import time\n",
    "import json\n",
    "import scipy.stats as st\n",
    "from scipy.stats import linregress\n",
    "\n",
    "# Import API Key\n",
    "from api_keys import weather_api_key\n",
    "\n",
    "# Incorporated Citipy to Determine City Based on Latitude & Longitude\n",
    "from citipy import citipy\n",
    "\n",
    "# Range of Latitudes & Longitudes\n",
    "lat_range = (-90, 90)\n",
    "lng_range = (-180, 180)"
   ]
  },
  {
   "cell_type": "markdown",
   "metadata": {},
   "source": [
    "## Generate Cities List"
   ]
  },
  {
   "cell_type": "code",
   "execution_count": 2,
   "metadata": {},
   "outputs": [
    {
     "data": {
      "text/plain": [
       "619"
      ]
     },
     "execution_count": 2,
     "metadata": {},
     "output_type": "execute_result"
    }
   ],
   "source": [
    "# List for Holding lat_lngs & Cities\n",
    "lat_lngs = []\n",
    "cities = []\n",
    "\n",
    "# Create a Set of Random lat & lng Combinations\n",
    "lats = np.random.uniform(low=-90.000, high=90.000, size=1500)\n",
    "lngs = np.random.uniform(low=-180.000, high=180.000, size=1500)\n",
    "lat_lngs = zip(lats, lngs)\n",
    "\n",
    "# Identify Nearest City for Each lat, lng Combination\n",
    "for lat_lng in lat_lngs:\n",
    "    city = citipy.nearest_city(lat_lng[0], lat_lng[1]).city_name\n",
    "    \n",
    "    # If the City is Unique, Then Add it to a Cities List\n",
    "    if city not in cities:\n",
    "        cities.append(city)\n",
    "\n",
    "# Print the City Count to Confirm Sufficient Count\n",
    "len(cities)"
   ]
  },
  {
   "cell_type": "markdown",
   "metadata": {},
   "source": [
    "### Perform API Calls\n",
    "* Perform a weather check on each city using a series of successive API calls.\n",
    "* Include a print log of each city as it'sbeing processed (with the city number and city name).\n"
   ]
  },
  {
   "cell_type": "code",
   "execution_count": 3,
   "metadata": {},
   "outputs": [],
   "source": [
    "# Get Weather Data\n",
    "url = \"http://api.openweathermap.org/data/2.5/weather?\"\n",
    "units = \"imperial\"\n",
    "query_url = f\"{url}appid={weather_api_key}&units={units}&q=\"\n",
    "\n",
    "weather_response = requests.get(query_url)\n",
    "weather_json = weather_response.json()"
   ]
  },
  {
   "cell_type": "code",
   "execution_count": 4,
   "metadata": {},
   "outputs": [
    {
     "name": "stdout",
     "output_type": "stream",
     "text": [
      "<Response [200]>\n"
     ]
    }
   ],
   "source": [
    "print(requests.get(query_url + city))"
   ]
  },
  {
   "cell_type": "code",
   "execution_count": 5,
   "metadata": {
    "scrolled": true
   },
   "outputs": [
    {
     "name": "stdout",
     "output_type": "stream",
     "text": [
      "Beginning Data Retrieval\n",
      "-------------------------------\n",
      "Processing Record 1 of Set 1 : cape town\n",
      "Processing Record 2 of Set 1 : mushie\n",
      "Processing Record 3 of Set 1 : kayerkan\n",
      "Processing Record 4 of Set 1 : mar del plata\n",
      "Processing Record 5 of Set 1 : bambous virieux\n",
      "City not found. Skipping...\n",
      "Processing Record 6 of Set 1 : pauini\n",
      "Processing Record 7 of Set 1 : hithadhoo\n",
      "Processing Record 8 of Set 1 : inongo\n",
      "Processing Record 9 of Set 1 : ushuaia\n",
      "Processing Record 10 of Set 1 : castro\n",
      "Processing Record 11 of Set 1 : leningradskiy\n",
      "Processing Record 12 of Set 1 : ribeira grande\n",
      "Processing Record 13 of Set 1 : chuy\n",
      "Processing Record 14 of Set 1 : vaini\n",
      "Processing Record 15 of Set 1 : rikitea\n",
      "Processing Record 16 of Set 1 : isiro\n",
      "Processing Record 17 of Set 1 : ribeira brava\n",
      "Processing Record 18 of Set 1 : puerto ayora\n",
      "Processing Record 19 of Set 1 : korla\n",
      "Processing Record 20 of Set 1 : qasigiannguit\n",
      "Processing Record 21 of Set 1 : albany\n",
      "Processing Record 22 of Set 1 : zaragoza\n",
      "City not found. Skipping...\n",
      "City not found. Skipping...\n",
      "Processing Record 23 of Set 1 : statesboro\n",
      "Processing Record 24 of Set 1 : hobart\n",
      "Processing Record 25 of Set 1 : punta arenas\n",
      "Processing Record 26 of Set 1 : port alfred\n",
      "Processing Record 27 of Set 1 : kahului\n",
      "Processing Record 28 of Set 1 : hermanus\n",
      "Processing Record 29 of Set 1 : kanker\n",
      "City not found. Skipping...\n",
      "City not found. Skipping...\n",
      "Processing Record 30 of Set 1 : qaanaaq\n",
      "Processing Record 31 of Set 1 : georgetown\n",
      "Processing Record 32 of Set 1 : broken hill\n",
      "Processing Record 33 of Set 1 : atuona\n",
      "City not found. Skipping...\n",
      "Processing Record 34 of Set 1 : great yarmouth\n",
      "Processing Record 35 of Set 1 : thompson\n",
      "Processing Record 36 of Set 1 : maraa\n",
      "Processing Record 37 of Set 1 : alexandria\n",
      "Processing Record 38 of Set 1 : tiruchchendur\n",
      "Processing Record 39 of Set 1 : ahipara\n",
      "Processing Record 40 of Set 1 : kavaratti\n",
      "City not found. Skipping...\n",
      "Processing Record 41 of Set 1 : tucurui\n",
      "Processing Record 42 of Set 1 : aklavik\n",
      "Processing Record 43 of Set 1 : cayenne\n",
      "City not found. Skipping...\n",
      "Processing Record 44 of Set 1 : yulara\n",
      "Processing Record 45 of Set 1 : santa cruz\n",
      "Processing Record 46 of Set 1 : kapaa\n",
      "Processing Record 47 of Set 1 : mataura\n",
      "City not found. Skipping...\n",
      "Processing Record 48 of Set 1 : jamestown\n",
      "Processing Record 49 of Set 1 : tasiilaq\n",
      "Processing Record 50 of Set 1 : medicine hat\n",
      "Processing Record 51 of Set 1 : butaritari\n",
      "Processing Record 52 of Set 1 : longyearbyen\n",
      "Processing Record 53 of Set 1 : dikson\n",
      "City not found. Skipping...\n",
      "Processing Record 54 of Set 1 : atherton\n",
      "Processing Record 55 of Set 1 : ranong\n",
      "Processing Record 56 of Set 1 : talnakh\n",
      "City not found. Skipping...\n",
      "Processing Record 57 of Set 1 : aswan\n",
      "Processing Record 58 of Set 1 : kurmanayevka\n",
      "Processing Record 59 of Set 1 : barrow\n",
      "Processing Record 60 of Set 1 : harboore\n",
      "Processing Record 61 of Set 1 : gizo\n",
      "Processing Record 62 of Set 1 : vao\n",
      "Processing Record 63 of Set 1 : gimli\n",
      "Processing Record 64 of Set 1 : elbistan\n",
      "Processing Record 65 of Set 1 : bethel\n",
      "Processing Record 66 of Set 1 : mastic beach\n",
      "City not found. Skipping...\n",
      "Processing Record 67 of Set 1 : zhangye\n",
      "Processing Record 68 of Set 1 : bluff\n",
      "Processing Record 69 of Set 1 : inverell\n",
      "Processing Record 70 of Set 1 : revelstoke\n",
      "Processing Record 71 of Set 1 : saint george\n",
      "Processing Record 72 of Set 1 : moerai\n",
      "Processing Record 73 of Set 1 : bambanglipuro\n",
      "Processing Record 74 of Set 1 : bria\n",
      "Processing Record 75 of Set 1 : goderich\n",
      "Processing Record 76 of Set 1 : khash\n",
      "Processing Record 77 of Set 1 : kodiak\n",
      "Processing Record 78 of Set 1 : coahuayana\n",
      "Processing Record 79 of Set 1 : bonfim\n",
      "Processing Record 80 of Set 1 : lityn\n",
      "Processing Record 81 of Set 1 : atar\n",
      "Processing Record 82 of Set 1 : deputatskiy\n",
      "Processing Record 83 of Set 1 : kaitangata\n",
      "Processing Record 84 of Set 1 : yellowknife\n",
      "Processing Record 85 of Set 1 : touros\n",
      "Processing Record 86 of Set 1 : meulaboh\n",
      "Processing Record 87 of Set 1 : avarua\n",
      "Processing Record 88 of Set 1 : east london\n",
      "City not found. Skipping...\n",
      "City not found. Skipping...\n",
      "Processing Record 89 of Set 1 : rassvet\n",
      "Processing Record 90 of Set 1 : fairbanks\n",
      "Processing Record 91 of Set 1 : karratha\n",
      "Processing Record 92 of Set 1 : sooke\n",
      "Processing Record 93 of Set 1 : jiuquan\n",
      "Processing Record 94 of Set 1 : biskamzha\n",
      "Processing Record 95 of Set 1 : esperance\n",
      "Processing Record 96 of Set 1 : americo brasiliense\n",
      "Processing Record 97 of Set 1 : crotone\n",
      "Processing Record 98 of Set 1 : tuktoyaktuk\n",
      "Processing Record 99 of Set 1 : codrington\n",
      "Processing Record 100 of Set 1 : chokurdakh\n",
      "Processing Record 101 of Set 1 : diego de almagro\n",
      "Processing Record 102 of Set 1 : busselton\n",
      "Processing Record 103 of Set 1 : hualmay\n",
      "Processing Record 104 of Set 1 : comodoro rivadavia\n",
      "Processing Record 105 of Set 1 : murfreesboro\n",
      "Processing Record 106 of Set 1 : guerande\n",
      "Processing Record 107 of Set 1 : pout\n",
      "Processing Record 108 of Set 1 : cap malheureux\n",
      "Processing Record 109 of Set 1 : bonavista\n",
      "Processing Record 110 of Set 1 : svetlyy\n",
      "Processing Record 111 of Set 1 : ambilobe\n",
      "Processing Record 112 of Set 1 : kunming\n",
      "Processing Record 113 of Set 1 : bara\n",
      "Processing Record 114 of Set 1 : wonosobo\n",
      "Processing Record 115 of Set 1 : black forest\n",
      "Processing Record 116 of Set 1 : harindanga\n",
      "Processing Record 117 of Set 1 : caraubas\n",
      "Processing Record 118 of Set 1 : fort nelson\n",
      "City not found. Skipping...\n",
      "Processing Record 119 of Set 1 : pisco\n",
      "Processing Record 120 of Set 1 : maceio\n",
      "Processing Record 121 of Set 1 : tuatapere\n",
      "Processing Record 122 of Set 1 : saint-louis\n",
      "Processing Record 123 of Set 1 : dubbo\n",
      "Processing Record 124 of Set 1 : saskylakh\n",
      "Processing Record 125 of Set 1 : torbay\n",
      "City not found. Skipping...\n",
      "Processing Record 126 of Set 1 : gat\n",
      "City not found. Skipping...\n",
      "Processing Record 127 of Set 1 : siemiatycze\n",
      "Processing Record 128 of Set 1 : nicolas bravo\n",
      "Processing Record 129 of Set 1 : pangkalanbuun\n",
      "City not found. Skipping...\n",
      "Processing Record 130 of Set 1 : samarai\n",
      "Processing Record 131 of Set 1 : dori\n",
      "Processing Record 132 of Set 1 : roald\n",
      "City not found. Skipping...\n",
      "Processing Record 133 of Set 1 : la ciotat\n",
      "Processing Record 134 of Set 1 : tingo maria\n",
      "Processing Record 135 of Set 1 : provideniya\n",
      "Processing Record 136 of Set 1 : victoria\n",
      "Processing Record 137 of Set 1 : esperanza\n",
      "Processing Record 138 of Set 1 : labuhan\n",
      "Processing Record 139 of Set 1 : saint-philippe\n",
      "Processing Record 140 of Set 1 : taybad\n",
      "Processing Record 141 of Set 1 : mahebourg\n",
      "Processing Record 142 of Set 1 : lompoc\n",
      "Processing Record 143 of Set 1 : constitucion\n",
      "Processing Record 144 of Set 1 : hilo\n",
      "Processing Record 145 of Set 1 : newburn\n",
      "Processing Record 146 of Set 1 : katsuura\n",
      "Processing Record 147 of Set 1 : celestun\n",
      "Processing Record 148 of Set 1 : nome\n",
      "Processing Record 149 of Set 1 : vila franca do campo\n",
      "Processing Record 150 of Set 1 : bosaso\n",
      "City not found. Skipping...\n",
      "Processing Record 151 of Set 1 : mackay\n",
      "Processing Record 152 of Set 1 : nouadhibou\n",
      "Processing Record 153 of Set 1 : blackpool\n",
      "Processing Record 154 of Set 1 : pomabamba\n",
      "Processing Record 155 of Set 1 : muros\n",
      "Processing Record 156 of Set 1 : port hardy\n",
      "Processing Record 157 of Set 1 : rio gallegos\n",
      "Processing Record 158 of Set 1 : puerto escondido\n",
      "Processing Record 159 of Set 1 : alofi\n",
      "Processing Record 160 of Set 1 : olafsvik\n",
      "Processing Record 161 of Set 1 : severodvinsk\n",
      "Processing Record 162 of Set 1 : tiksi\n",
      "Processing Record 163 of Set 1 : shaoyang\n",
      "Processing Record 164 of Set 1 : kimbe\n",
      "Processing Record 165 of Set 1 : faanui\n",
      "Processing Record 166 of Set 1 : indi\n",
      "Processing Record 167 of Set 1 : pavlovsk\n",
      "Processing Record 168 of Set 1 : arica\n",
      "Processing Record 169 of Set 1 : maamba\n",
      "Processing Record 170 of Set 1 : planaltina\n",
      "Processing Record 171 of Set 1 : lorengau\n",
      "Processing Record 172 of Set 1 : suntar\n",
      "Processing Record 173 of Set 1 : cantaura\n",
      "Processing Record 174 of Set 1 : batagay-alyta\n",
      "Processing Record 175 of Set 1 : san felipe\n",
      "Processing Record 176 of Set 1 : whitehorse\n",
      "Processing Record 177 of Set 1 : bredasdorp\n",
      "Processing Record 178 of Set 1 : kichmengskiy gorodok\n",
      "City not found. Skipping...\n",
      "Processing Record 179 of Set 1 : nanortalik\n",
      "Processing Record 180 of Set 1 : dunedin\n",
      "City not found. Skipping...\n"
     ]
    },
    {
     "name": "stdout",
     "output_type": "stream",
     "text": [
      "Processing Record 181 of Set 1 : wajir\n",
      "Processing Record 182 of Set 1 : souillac\n",
      "Processing Record 183 of Set 1 : simoes\n",
      "Processing Record 184 of Set 1 : kuching\n",
      "Processing Record 185 of Set 1 : saint-augustin\n",
      "Processing Record 186 of Set 1 : pedraza\n",
      "Processing Record 187 of Set 1 : alappuzha\n",
      "Processing Record 188 of Set 1 : paamiut\n",
      "Processing Record 189 of Set 1 : ampanihy\n",
      "Processing Record 190 of Set 1 : berlevag\n",
      "Processing Record 191 of Set 1 : pacifica\n",
      "Processing Record 192 of Set 1 : dingle\n",
      "Processing Record 193 of Set 1 : port hawkesbury\n",
      "Processing Record 194 of Set 1 : adrar\n",
      "Processing Record 195 of Set 1 : hinjilikatu\n",
      "Processing Record 196 of Set 1 : hamilton\n",
      "Processing Record 197 of Set 1 : juneau\n",
      "Processing Record 198 of Set 1 : hasaki\n",
      "Processing Record 199 of Set 1 : bo rai\n",
      "Processing Record 200 of Set 1 : lebu\n",
      "City not found. Skipping...\n",
      "Processing Record 201 of Set 1 : luhyny\n",
      "Processing Record 202 of Set 1 : arraial do cabo\n",
      "Processing Record 203 of Set 1 : henties bay\n",
      "Processing Record 204 of Set 1 : new norfolk\n",
      "Processing Record 205 of Set 1 : cidreira\n",
      "Processing Record 206 of Set 1 : arlit\n",
      "Processing Record 207 of Set 1 : san quintin\n",
      "Processing Record 208 of Set 1 : kasongo-lunda\n",
      "Processing Record 209 of Set 1 : cootamundra\n",
      "Processing Record 210 of Set 1 : lodja\n",
      "Processing Record 211 of Set 1 : evensk\n",
      "Processing Record 212 of Set 1 : mehamn\n",
      "Processing Record 213 of Set 1 : digras\n",
      "Processing Record 214 of Set 1 : calbiga\n",
      "Processing Record 215 of Set 1 : lithgow\n",
      "Processing Record 216 of Set 1 : takoradi\n",
      "City not found. Skipping...\n",
      "Processing Record 217 of Set 1 : bahia blanca\n",
      "Processing Record 218 of Set 1 : victoria point\n",
      "Processing Record 219 of Set 1 : narsaq\n",
      "Processing Record 220 of Set 1 : takapau\n",
      "Processing Record 221 of Set 1 : platanos\n",
      "Processing Record 222 of Set 1 : cincinnati\n",
      "Processing Record 223 of Set 1 : pangnirtung\n",
      "Processing Record 224 of Set 1 : maniitsoq\n",
      "Processing Record 225 of Set 1 : tommot\n",
      "Processing Record 226 of Set 1 : kalmunai\n",
      "Processing Record 227 of Set 1 : port blair\n",
      "Processing Record 228 of Set 1 : urdoma\n",
      "Processing Record 229 of Set 1 : kamenka\n",
      "Processing Record 230 of Set 1 : salinopolis\n",
      "City not found. Skipping...\n",
      "Processing Record 231 of Set 1 : lavrentiya\n",
      "Processing Record 232 of Set 1 : grootfontein\n",
      "Processing Record 233 of Set 1 : taoudenni\n",
      "Processing Record 234 of Set 1 : shahe\n",
      "Processing Record 235 of Set 1 : khatanga\n",
      "Processing Record 236 of Set 1 : ponta do sol\n",
      "City not found. Skipping...\n",
      "Processing Record 237 of Set 1 : kontagora\n",
      "Processing Record 238 of Set 1 : yumen\n",
      "Processing Record 239 of Set 1 : cruzilia\n",
      "Processing Record 240 of Set 1 : bandarbeyla\n",
      "Processing Record 241 of Set 1 : sisimiut\n",
      "Processing Record 242 of Set 1 : oksfjord\n",
      "City not found. Skipping...\n",
      "Processing Record 243 of Set 1 : hobyo\n",
      "Processing Record 244 of Set 1 : cururupu\n",
      "Processing Record 245 of Set 1 : samandag\n",
      "Processing Record 246 of Set 1 : amapa\n",
      "Processing Record 247 of Set 1 : southbridge\n",
      "Processing Record 248 of Set 1 : kavieng\n",
      "Processing Record 249 of Set 1 : pevek\n",
      "Processing Record 250 of Set 1 : gisborne\n",
      "Processing Record 251 of Set 1 : talcahuano\n",
      "Processing Record 252 of Set 1 : sao paulo de olivenca\n",
      "Processing Record 253 of Set 1 : karpathos\n",
      "Processing Record 254 of Set 1 : mubi\n",
      "Processing Record 255 of Set 1 : nikolskoye\n",
      "Processing Record 256 of Set 1 : norman wells\n",
      "Processing Record 257 of Set 1 : loubomo\n",
      "Processing Record 258 of Set 1 : kendari\n",
      "Processing Record 259 of Set 1 : trinidad\n",
      "Processing Record 260 of Set 1 : cherskiy\n",
      "Processing Record 261 of Set 1 : dhidhdhoo\n",
      "Processing Record 262 of Set 1 : berezovyy\n",
      "Processing Record 263 of Set 1 : fuxin\n",
      "Processing Record 264 of Set 1 : gainesville\n",
      "Processing Record 265 of Set 1 : beringovskiy\n",
      "Processing Record 266 of Set 1 : ostrovnoy\n",
      "Processing Record 267 of Set 1 : poum\n",
      "Processing Record 268 of Set 1 : portland\n",
      "Processing Record 269 of Set 1 : dunmore town\n",
      "Processing Record 270 of Set 1 : novaya bryan\n",
      "Processing Record 271 of Set 1 : eidsvag\n",
      "Processing Record 272 of Set 1 : xinyu\n",
      "City not found. Skipping...\n",
      "Processing Record 273 of Set 1 : margate\n",
      "Processing Record 274 of Set 1 : buta\n",
      "Processing Record 275 of Set 1 : bloemfontein\n",
      "Processing Record 276 of Set 1 : clyde river\n",
      "Processing Record 277 of Set 1 : louth\n",
      "Processing Record 278 of Set 1 : waipawa\n",
      "City not found. Skipping...\n",
      "Processing Record 279 of Set 1 : ryotsu\n",
      "Processing Record 280 of Set 1 : agogo\n",
      "Processing Record 281 of Set 1 : barvinkove\n",
      "Processing Record 282 of Set 1 : tairua\n",
      "Processing Record 283 of Set 1 : jabinyanah\n",
      "Processing Record 284 of Set 1 : saldanha\n",
      "Processing Record 285 of Set 1 : hoima\n",
      "Processing Record 286 of Set 1 : conakry\n",
      "Processing Record 287 of Set 1 : san cristobal\n",
      "Processing Record 288 of Set 1 : peniche\n",
      "Processing Record 289 of Set 1 : bengkulu\n",
      "Processing Record 290 of Set 1 : acarau\n",
      "Processing Record 291 of Set 1 : daru\n",
      "Processing Record 292 of Set 1 : dinuba\n",
      "Processing Record 293 of Set 1 : kieta\n",
      "Processing Record 294 of Set 1 : tabou\n",
      "Processing Record 295 of Set 1 : sabzevar\n",
      "Processing Record 296 of Set 1 : kushiro\n",
      "Processing Record 297 of Set 1 : albanel\n",
      "Processing Record 298 of Set 1 : viedma\n",
      "City not found. Skipping...\n",
      "Processing Record 299 of Set 1 : port lincoln\n",
      "Processing Record 300 of Set 1 : bartica\n",
      "Processing Record 301 of Set 1 : upernavik\n",
      "Processing Record 302 of Set 1 : buraydah\n",
      "Processing Record 303 of Set 1 : vardo\n",
      "City not found. Skipping...\n",
      "Processing Record 304 of Set 1 : tambura\n",
      "Processing Record 305 of Set 1 : florida\n",
      "Processing Record 306 of Set 1 : hirara\n",
      "Processing Record 307 of Set 1 : nalut\n",
      "Processing Record 308 of Set 1 : port elizabeth\n",
      "Processing Record 309 of Set 1 : bathsheba\n",
      "Processing Record 310 of Set 1 : laguna\n",
      "Processing Record 311 of Set 1 : ola\n",
      "Processing Record 312 of Set 1 : nanakuli\n",
      "Processing Record 313 of Set 1 : luau\n",
      "Processing Record 314 of Set 1 : madisonville\n",
      "Processing Record 315 of Set 1 : buala\n",
      "Processing Record 316 of Set 1 : juarez\n",
      "Processing Record 317 of Set 1 : carnarvon\n",
      "Processing Record 318 of Set 1 : pilar\n",
      "Processing Record 319 of Set 1 : kloulklubed\n",
      "Processing Record 320 of Set 1 : petropavlovsk-kamchatskiy\n",
      "Processing Record 321 of Set 1 : agirish\n",
      "Processing Record 322 of Set 1 : voznesenye\n",
      "Processing Record 323 of Set 1 : lefka\n",
      "Processing Record 324 of Set 1 : biharamulo\n",
      "Processing Record 325 of Set 1 : sayyan\n",
      "City not found. Skipping...\n",
      "Processing Record 326 of Set 1 : conde\n",
      "Processing Record 327 of Set 1 : sao joao da barra\n",
      "Processing Record 328 of Set 1 : laje\n",
      "Processing Record 329 of Set 1 : nizhniy odes\n",
      "City not found. Skipping...\n",
      "Processing Record 330 of Set 1 : assiniboia\n",
      "Processing Record 331 of Set 1 : trelew\n",
      "Processing Record 332 of Set 1 : eureka\n",
      "Processing Record 333 of Set 1 : whitecourt\n",
      "Processing Record 334 of Set 1 : cotonou\n",
      "Processing Record 335 of Set 1 : iquitos\n",
      "Processing Record 336 of Set 1 : tinsukia\n",
      "Processing Record 337 of Set 1 : namibe\n",
      "Processing Record 338 of Set 1 : hachinohe\n",
      "Processing Record 339 of Set 1 : ust-ilimsk\n",
      "Processing Record 340 of Set 1 : chifeng\n",
      "Processing Record 341 of Set 1 : kysyl-syr\n",
      "Processing Record 342 of Set 1 : payo\n",
      "City not found. Skipping...\n",
      "Processing Record 343 of Set 1 : albert\n",
      "Processing Record 344 of Set 1 : arshan\n",
      "Processing Record 345 of Set 1 : college\n",
      "City not found. Skipping...\n",
      "Processing Record 346 of Set 1 : sao filipe\n",
      "Processing Record 347 of Set 1 : parchim\n",
      "Processing Record 348 of Set 1 : zaranj\n",
      "Processing Record 349 of Set 1 : luan\n",
      "Processing Record 350 of Set 1 : lerwick\n",
      "Processing Record 351 of Set 1 : koraput\n",
      "City not found. Skipping...\n",
      "Processing Record 352 of Set 1 : beloha\n",
      "Processing Record 353 of Set 1 : udachnyy\n",
      "Processing Record 354 of Set 1 : brae\n",
      "City not found. Skipping...\n",
      "Processing Record 355 of Set 1 : kudahuvadhoo\n",
      "City not found. Skipping...\n",
      "Processing Record 356 of Set 1 : klaksvik\n",
      "Processing Record 357 of Set 1 : luena\n",
      "Processing Record 358 of Set 1 : thunder bay\n",
      "Processing Record 359 of Set 1 : masingbi\n",
      "Processing Record 360 of Set 1 : vostok\n",
      "City not found. Skipping...\n",
      "Processing Record 361 of Set 1 : vila velha\n",
      "Processing Record 362 of Set 1 : makow mazowiecki\n",
      "Processing Record 363 of Set 1 : kollam\n",
      "Processing Record 364 of Set 1 : inhambane\n"
     ]
    },
    {
     "name": "stdout",
     "output_type": "stream",
     "text": [
      "Processing Record 365 of Set 1 : varhaug\n",
      "Processing Record 366 of Set 1 : merzifon\n",
      "Processing Record 367 of Set 1 : culpeper\n",
      "Processing Record 368 of Set 1 : vestmanna\n",
      "Processing Record 369 of Set 1 : antofagasta\n",
      "City not found. Skipping...\n",
      "Processing Record 370 of Set 1 : baruun-urt\n",
      "Processing Record 371 of Set 1 : broome\n",
      "Processing Record 372 of Set 1 : nikolayevka\n",
      "Processing Record 373 of Set 1 : cabo san lucas\n",
      "Processing Record 374 of Set 1 : port hedland\n",
      "Processing Record 375 of Set 1 : douentza\n",
      "Processing Record 376 of Set 1 : zhigalovo\n",
      "City not found. Skipping...\n",
      "Processing Record 377 of Set 1 : wanning\n",
      "Processing Record 378 of Set 1 : mangrol\n",
      "Processing Record 379 of Set 1 : sao gabriel da cachoeira\n",
      "Processing Record 380 of Set 1 : tutoia\n",
      "Processing Record 381 of Set 1 : nuuk\n",
      "Processing Record 382 of Set 1 : burgersdorp\n",
      "City not found. Skipping...\n",
      "Processing Record 383 of Set 1 : merauke\n",
      "Processing Record 384 of Set 1 : collie\n",
      "Processing Record 385 of Set 1 : birin\n",
      "Processing Record 386 of Set 1 : kiunga\n",
      "Processing Record 387 of Set 1 : birao\n",
      "Processing Record 388 of Set 1 : port-de-bouc\n",
      "Processing Record 389 of Set 1 : vestmannaeyjar\n",
      "Processing Record 390 of Set 1 : iralaya\n",
      "Processing Record 391 of Set 1 : luderitz\n",
      "Processing Record 392 of Set 1 : narrabri\n",
      "Processing Record 393 of Set 1 : ulladulla\n",
      "Processing Record 394 of Set 1 : necochea\n",
      "Processing Record 395 of Set 1 : komsomolskiy\n",
      "Processing Record 396 of Set 1 : kruisfontein\n",
      "Processing Record 397 of Set 1 : iwanai\n",
      "Processing Record 398 of Set 1 : anadyr\n",
      "Processing Record 399 of Set 1 : ostersund\n",
      "Processing Record 400 of Set 1 : santa eulalia\n",
      "Processing Record 401 of Set 1 : chauk\n",
      "Processing Record 402 of Set 1 : houma\n",
      "City not found. Skipping...\n",
      "Processing Record 403 of Set 1 : abong mbang\n",
      "Processing Record 404 of Set 1 : palana\n",
      "Processing Record 405 of Set 1 : siavonga\n",
      "Processing Record 406 of Set 1 : xai-xai\n",
      "Processing Record 407 of Set 1 : kaura namoda\n",
      "Processing Record 408 of Set 1 : peyima\n",
      "Processing Record 409 of Set 1 : devonport\n",
      "Processing Record 410 of Set 1 : verkhnyaya inta\n",
      "Processing Record 411 of Set 1 : kununurra\n",
      "Processing Record 412 of Set 1 : rincon\n",
      "Processing Record 413 of Set 1 : hami\n",
      "Processing Record 414 of Set 1 : yerofey pavlovich\n",
      "City not found. Skipping...\n",
      "Processing Record 415 of Set 1 : cockburn town\n",
      "Processing Record 416 of Set 1 : gasa\n",
      "Processing Record 417 of Set 1 : miles city\n",
      "City not found. Skipping...\n",
      "Processing Record 418 of Set 1 : zion\n",
      "Processing Record 419 of Set 1 : saint anthony\n",
      "Processing Record 420 of Set 1 : zhoucheng\n",
      "Processing Record 421 of Set 1 : zhongshu\n",
      "Processing Record 422 of Set 1 : krasnoselkup\n",
      "Processing Record 423 of Set 1 : mattawa\n",
      "Processing Record 424 of Set 1 : khlung\n",
      "Processing Record 425 of Set 1 : starodub\n",
      "City not found. Skipping...\n",
      "Processing Record 426 of Set 1 : tulsipur\n",
      "Processing Record 427 of Set 1 : algodones\n",
      "Processing Record 428 of Set 1 : taicheng\n",
      "Processing Record 429 of Set 1 : sepuka\n",
      "Processing Record 430 of Set 1 : lejanias\n",
      "Processing Record 431 of Set 1 : zheleznodorozhnyy\n",
      "Processing Record 432 of Set 1 : matadi\n",
      "City not found. Skipping...\n",
      "Processing Record 433 of Set 1 : manta\n",
      "Processing Record 434 of Set 1 : fortuna\n",
      "Processing Record 435 of Set 1 : ancud\n",
      "Processing Record 436 of Set 1 : saint-leu\n",
      "Processing Record 437 of Set 1 : fukue\n",
      "Processing Record 438 of Set 1 : virginia beach\n",
      "Processing Record 439 of Set 1 : labrea\n",
      "Processing Record 440 of Set 1 : mazyr\n",
      "Processing Record 441 of Set 1 : zabaykalsk\n",
      "Processing Record 442 of Set 1 : hofn\n",
      "Processing Record 443 of Set 1 : rawah\n",
      "City not found. Skipping...\n",
      "Processing Record 444 of Set 1 : palmerston\n",
      "Processing Record 445 of Set 1 : doha\n",
      "Processing Record 446 of Set 1 : guarapari\n",
      "Processing Record 447 of Set 1 : waingapu\n",
      "Processing Record 448 of Set 1 : airai\n",
      "Processing Record 449 of Set 1 : luanda\n",
      "Processing Record 450 of Set 1 : alice springs\n",
      "Processing Record 451 of Set 1 : shaunavon\n",
      "Processing Record 452 of Set 1 : soddy-daisy\n",
      "Processing Record 453 of Set 1 : zhigansk\n",
      "Processing Record 454 of Set 1 : fayetteville\n",
      "Processing Record 455 of Set 1 : amga\n",
      "Processing Record 456 of Set 1 : belmonte\n",
      "Processing Record 457 of Set 1 : grand gaube\n",
      "Processing Record 458 of Set 1 : gibara\n",
      "Processing Record 459 of Set 1 : camacha\n",
      "Processing Record 460 of Set 1 : avon park\n",
      "Processing Record 461 of Set 1 : mana\n",
      "Processing Record 462 of Set 1 : ixtapa\n",
      "Processing Record 463 of Set 1 : pochutla\n",
      "Processing Record 464 of Set 1 : harper\n",
      "Processing Record 465 of Set 1 : ibra\n",
      "Processing Record 466 of Set 1 : ilulissat\n",
      "Processing Record 467 of Set 1 : ancona\n",
      "Processing Record 468 of Set 1 : tarauaca\n",
      "Processing Record 469 of Set 1 : sao miguel do iguacu\n",
      "Processing Record 470 of Set 1 : manono\n",
      "Processing Record 471 of Set 1 : banda aceh\n",
      "Processing Record 472 of Set 1 : basqal\n",
      "Processing Record 473 of Set 1 : alta floresta\n",
      "Processing Record 474 of Set 1 : bermejo\n",
      "Processing Record 475 of Set 1 : haines junction\n",
      "Processing Record 476 of Set 1 : tazovskiy\n",
      "Processing Record 477 of Set 1 : benguela\n",
      "Processing Record 478 of Set 1 : mopipi\n",
      "Processing Record 479 of Set 1 : searcy\n",
      "City not found. Skipping...\n",
      "Processing Record 480 of Set 1 : sobreira\n",
      "Processing Record 481 of Set 1 : zaysan\n",
      "Processing Record 482 of Set 1 : keffi\n",
      "Processing Record 483 of Set 1 : krasnokamensk\n",
      "Processing Record 484 of Set 1 : auki\n",
      "Processing Record 485 of Set 1 : lata\n",
      "Processing Record 486 of Set 1 : arcata\n",
      "Processing Record 487 of Set 1 : huarmey\n",
      "Processing Record 488 of Set 1 : nelson bay\n",
      "Processing Record 489 of Set 1 : port-gentil\n",
      "Processing Record 490 of Set 1 : grafton\n",
      "City not found. Skipping...\n",
      "Processing Record 491 of Set 1 : bryan\n",
      "Processing Record 492 of Set 1 : borovoy\n",
      "Processing Record 493 of Set 1 : oranjemund\n",
      "City not found. Skipping...\n",
      "Processing Record 494 of Set 1 : olathe\n",
      "Processing Record 495 of Set 1 : westport\n",
      "Processing Record 496 of Set 1 : makakilo city\n",
      "Processing Record 497 of Set 1 : linhares\n",
      "Processing Record 498 of Set 1 : coos bay\n",
      "Processing Record 499 of Set 1 : urucara\n",
      "Processing Record 500 of Set 1 : orvault\n",
      "Processing Record 501 of Set 1 : budogoshch\n",
      "Processing Record 0 of Set 2 : ponta delgada\n",
      "Processing Record 1 of Set 2 : businga\n",
      "Processing Record 2 of Set 2 : kirn\n",
      "Processing Record 3 of Set 2 : hermiston\n",
      "City not found. Skipping...\n",
      "Processing Record 4 of Set 2 : igarka\n",
      "Processing Record 5 of Set 2 : jalu\n",
      "Processing Record 6 of Set 2 : panama\n",
      "Processing Record 7 of Set 2 : tonkino\n",
      "Processing Record 8 of Set 2 : lufilufi\n",
      "Processing Record 9 of Set 2 : batemans bay\n",
      "Processing Record 10 of Set 2 : pacific grove\n",
      "Processing Record 11 of Set 2 : demak\n",
      "Processing Record 12 of Set 2 : okhotsk\n",
      "Processing Record 13 of Set 2 : jijiga\n",
      "Processing Record 14 of Set 2 : faya\n",
      "Processing Record 15 of Set 2 : isangel\n",
      "Processing Record 16 of Set 2 : petauke\n",
      "Processing Record 17 of Set 2 : chatham\n",
      "Processing Record 18 of Set 2 : bam\n",
      "Processing Record 19 of Set 2 : altay\n",
      "Processing Record 20 of Set 2 : glotovka\n",
      "City not found. Skipping...\n",
      "Processing Record 21 of Set 2 : naryan-mar\n",
      "City not found. Skipping...\n",
      "Processing Record 22 of Set 2 : poli\n",
      "Processing Record 23 of Set 2 : dombas\n",
      "Processing Record 24 of Set 2 : balad\n",
      "Processing Record 25 of Set 2 : palmas bellas\n",
      "Processing Record 26 of Set 2 : coihaique\n",
      "Processing Record 27 of Set 2 : srednekolymsk\n",
      "Processing Record 28 of Set 2 : khao wong\n",
      "Processing Record 29 of Set 2 : fushun\n",
      "Processing Record 30 of Set 2 : partur\n",
      "City not found. Skipping...\n",
      "Processing Record 31 of Set 2 : chippewa falls\n",
      "Processing Record 32 of Set 2 : iraquara\n",
      "Processing Record 33 of Set 2 : rehoboth\n",
      "Processing Record 34 of Set 2 : honningsvag\n",
      "Processing Record 35 of Set 2 : palmas\n",
      "Processing Record 36 of Set 2 : te anau\n",
      "Processing Record 37 of Set 2 : yarensk\n",
      "Processing Record 38 of Set 2 : kamenskiy\n",
      "Processing Record 39 of Set 2 : palasa\n",
      "Processing Record 40 of Set 2 : andilamena\n",
      "City not found. Skipping...\n",
      "Processing Record 41 of Set 2 : dzhebariki-khaya\n",
      "Processing Record 42 of Set 2 : drayton valley\n",
      "Processing Record 43 of Set 2 : wellington\n",
      "Processing Record 44 of Set 2 : nizhneangarsk\n",
      "Processing Record 45 of Set 2 : jizan\n",
      "Processing Record 46 of Set 2 : kambove\n"
     ]
    },
    {
     "name": "stdout",
     "output_type": "stream",
     "text": [
      "Processing Record 47 of Set 2 : avera\n",
      "Processing Record 48 of Set 2 : bereznik\n",
      "Processing Record 49 of Set 2 : hokitika\n",
      "Processing Record 50 of Set 2 : saint-pierre\n",
      "Processing Record 51 of Set 2 : lamar\n",
      "Processing Record 52 of Set 2 : magadan\n",
      "Processing Record 53 of Set 2 : cuamba\n",
      "Processing Record 54 of Set 2 : yar-sale\n",
      "Processing Record 55 of Set 2 : sylling\n",
      "Processing Record 56 of Set 2 : ngunguru\n",
      "Processing Record 57 of Set 2 : taltal\n",
      "Processing Record 58 of Set 2 : ust-nera\n",
      "Processing Record 59 of Set 2 : itarema\n",
      "Processing Record 60 of Set 2 : izumo\n",
      "Processing Record 61 of Set 2 : sitka\n",
      "-------------------------------\n",
      "Data Retrieval Complete\n",
      "-------------------------------\n"
     ]
    }
   ],
   "source": [
    "city_name = []\n",
    "country = []\n",
    "date = []\n",
    "latitude = []\n",
    "longitude = []\n",
    "max_temperature = []\n",
    "humidity = []\n",
    "cloudiness = []\n",
    "wind_speed = []\n",
    "index_counter = 0\n",
    "set_counter = 1\n",
    "\n",
    "\n",
    "# Print Starting Log Statement\n",
    "print(f\"Beginning Data Retrieval\")\n",
    "print(f\"-------------------------------\")\n",
    "\n",
    "# Loop Through List of Cities & Perform a Request for Data on Each\n",
    "for city in cities:\n",
    "\n",
    "# Exception Handling\n",
    "    try:\n",
    "        response = requests.get(query_url + city).json()\n",
    "        city_name.append(response[\"name\"])\n",
    "        country.append(response[\"sys\"][\"country\"])\n",
    "        date.append(response[\"dt\"])\n",
    "        latitude.append(response[\"coord\"][\"lat\"])\n",
    "        longitude.append(response[\"coord\"][\"lon\"])\n",
    "        max_temperature.append(response[\"main\"][\"temp_max\"])\n",
    "        humidity.append(response[\"main\"][\"humidity\"])\n",
    "        cloudiness.append(response[\"clouds\"][\"all\"])\n",
    "        wind_speed.append(response[\"wind\"][\"speed\"])\n",
    "        city_record = response[\"name\"]\n",
    "        if index_counter > 500:\n",
    "            index_counter = 0\n",
    "            set_counter = set_counter + 1\n",
    "    \n",
    "        else:\n",
    "            index_counter = index_counter + 1\n",
    "            \n",
    "        print(f\"Processing Record {index_counter} of Set {set_counter} : {city}\") \n",
    "  \n",
    "    except(KeyError, IndexError):\n",
    "        print(\"City not found. Skipping...\")\n",
    "\n",
    "# Print Ending Log Statement\n",
    "print(f\"-------------------------------\")\n",
    "print(f\"Data Retrieval Complete\")\n",
    "print(f\"-------------------------------\")"
   ]
  },
  {
   "cell_type": "markdown",
   "metadata": {},
   "source": [
    "### Convert Raw Data to DataFrame\n",
    "* Export the city data into a .csv.\n",
    "* Display the DataFrame"
   ]
  },
  {
   "cell_type": "code",
   "execution_count": 7,
   "metadata": {},
   "outputs": [],
   "source": [
    " # Create a DataFrame from Cities, Latitude, Longitude, Temperature, Humidity, Cloudiness & Wind Speed\n",
    "weather_dict = {\n",
    "    \"City\": city_name,\n",
    "    \"Country\": country,\n",
    "    \"Lat\": latitude,\n",
    "    \"Lng\": longitude,\n",
    "    \"Max Temp\": max_temperature,\n",
    "    \"Humidity\": humidity,\n",
    "    \"Cloudiness\": cloudiness,\n",
    "    \"Wind Speed\": wind_speed,\n",
    "    \"Date\": date\n",
    "}"
   ]
  },
  {
   "cell_type": "code",
   "execution_count": 13,
   "metadata": {},
   "outputs": [
    {
     "data": {
      "text/html": [
       "<div>\n",
       "<style scoped>\n",
       "    .dataframe tbody tr th:only-of-type {\n",
       "        vertical-align: middle;\n",
       "    }\n",
       "\n",
       "    .dataframe tbody tr th {\n",
       "        vertical-align: top;\n",
       "    }\n",
       "\n",
       "    .dataframe thead th {\n",
       "        text-align: right;\n",
       "    }\n",
       "</style>\n",
       "<table border=\"1\" class=\"dataframe\">\n",
       "  <thead>\n",
       "    <tr style=\"text-align: right;\">\n",
       "      <th></th>\n",
       "      <th>City</th>\n",
       "      <th>Country</th>\n",
       "      <th>Lat</th>\n",
       "      <th>Lng</th>\n",
       "      <th>Max Temp</th>\n",
       "      <th>Humidity</th>\n",
       "      <th>Cloudiness</th>\n",
       "      <th>Wind Speed</th>\n",
       "      <th>Date</th>\n",
       "    </tr>\n",
       "  </thead>\n",
       "  <tbody>\n",
       "    <tr>\n",
       "      <th>0</th>\n",
       "      <td>Cape Town</td>\n",
       "      <td>ZA</td>\n",
       "      <td>-33.93</td>\n",
       "      <td>18.42</td>\n",
       "      <td>55.99</td>\n",
       "      <td>62</td>\n",
       "      <td>75</td>\n",
       "      <td>20.80</td>\n",
       "      <td>1601526849</td>\n",
       "    </tr>\n",
       "    <tr>\n",
       "      <th>1</th>\n",
       "      <td>Mushie</td>\n",
       "      <td>CD</td>\n",
       "      <td>-3.02</td>\n",
       "      <td>16.90</td>\n",
       "      <td>71.73</td>\n",
       "      <td>94</td>\n",
       "      <td>100</td>\n",
       "      <td>2.37</td>\n",
       "      <td>1601527074</td>\n",
       "    </tr>\n",
       "    <tr>\n",
       "      <th>2</th>\n",
       "      <td>Kayerkan</td>\n",
       "      <td>RU</td>\n",
       "      <td>69.35</td>\n",
       "      <td>87.76</td>\n",
       "      <td>28.40</td>\n",
       "      <td>100</td>\n",
       "      <td>75</td>\n",
       "      <td>13.42</td>\n",
       "      <td>1601527075</td>\n",
       "    </tr>\n",
       "    <tr>\n",
       "      <th>3</th>\n",
       "      <td>Mar del Plata</td>\n",
       "      <td>AR</td>\n",
       "      <td>-38.00</td>\n",
       "      <td>-57.56</td>\n",
       "      <td>55.00</td>\n",
       "      <td>81</td>\n",
       "      <td>62</td>\n",
       "      <td>9.17</td>\n",
       "      <td>1601527075</td>\n",
       "    </tr>\n",
       "    <tr>\n",
       "      <th>4</th>\n",
       "      <td>Bambous Virieux</td>\n",
       "      <td>MU</td>\n",
       "      <td>-20.34</td>\n",
       "      <td>57.76</td>\n",
       "      <td>75.99</td>\n",
       "      <td>78</td>\n",
       "      <td>20</td>\n",
       "      <td>6.93</td>\n",
       "      <td>1601527075</td>\n",
       "    </tr>\n",
       "    <tr>\n",
       "      <th>5</th>\n",
       "      <td>Pauini</td>\n",
       "      <td>BR</td>\n",
       "      <td>-7.71</td>\n",
       "      <td>-66.98</td>\n",
       "      <td>70.92</td>\n",
       "      <td>98</td>\n",
       "      <td>100</td>\n",
       "      <td>1.50</td>\n",
       "      <td>1601527076</td>\n",
       "    </tr>\n",
       "    <tr>\n",
       "      <th>6</th>\n",
       "      <td>Hithadhoo</td>\n",
       "      <td>MV</td>\n",
       "      <td>-0.60</td>\n",
       "      <td>73.08</td>\n",
       "      <td>82.87</td>\n",
       "      <td>71</td>\n",
       "      <td>99</td>\n",
       "      <td>3.51</td>\n",
       "      <td>1601527076</td>\n",
       "    </tr>\n",
       "    <tr>\n",
       "      <th>7</th>\n",
       "      <td>Inongo</td>\n",
       "      <td>CD</td>\n",
       "      <td>-1.95</td>\n",
       "      <td>18.27</td>\n",
       "      <td>69.78</td>\n",
       "      <td>94</td>\n",
       "      <td>99</td>\n",
       "      <td>5.06</td>\n",
       "      <td>1601527076</td>\n",
       "    </tr>\n",
       "    <tr>\n",
       "      <th>8</th>\n",
       "      <td>Ushuaia</td>\n",
       "      <td>AR</td>\n",
       "      <td>-54.80</td>\n",
       "      <td>-68.30</td>\n",
       "      <td>28.40</td>\n",
       "      <td>100</td>\n",
       "      <td>100</td>\n",
       "      <td>20.80</td>\n",
       "      <td>1601527077</td>\n",
       "    </tr>\n",
       "    <tr>\n",
       "      <th>9</th>\n",
       "      <td>Castro</td>\n",
       "      <td>BR</td>\n",
       "      <td>-24.79</td>\n",
       "      <td>-50.01</td>\n",
       "      <td>63.81</td>\n",
       "      <td>94</td>\n",
       "      <td>29</td>\n",
       "      <td>7.07</td>\n",
       "      <td>1601527077</td>\n",
       "    </tr>\n",
       "  </tbody>\n",
       "</table>\n",
       "</div>"
      ],
      "text/plain": [
       "              City Country    Lat    Lng  Max Temp  Humidity  Cloudiness  \\\n",
       "0        Cape Town      ZA -33.93  18.42     55.99        62          75   \n",
       "1           Mushie      CD  -3.02  16.90     71.73        94         100   \n",
       "2         Kayerkan      RU  69.35  87.76     28.40       100          75   \n",
       "3    Mar del Plata      AR -38.00 -57.56     55.00        81          62   \n",
       "4  Bambous Virieux      MU -20.34  57.76     75.99        78          20   \n",
       "5           Pauini      BR  -7.71 -66.98     70.92        98         100   \n",
       "6        Hithadhoo      MV  -0.60  73.08     82.87        71          99   \n",
       "7           Inongo      CD  -1.95  18.27     69.78        94          99   \n",
       "8          Ushuaia      AR -54.80 -68.30     28.40       100         100   \n",
       "9           Castro      BR -24.79 -50.01     63.81        94          29   \n",
       "\n",
       "   Wind Speed        Date  \n",
       "0       20.80  1601526849  \n",
       "1        2.37  1601527074  \n",
       "2       13.42  1601527075  \n",
       "3        9.17  1601527075  \n",
       "4        6.93  1601527075  \n",
       "5        1.50  1601527076  \n",
       "6        3.51  1601527076  \n",
       "7        5.06  1601527076  \n",
       "8       20.80  1601527077  \n",
       "9        7.07  1601527077  "
      ]
     },
     "execution_count": 13,
     "metadata": {},
     "output_type": "execute_result"
    }
   ],
   "source": [
    "weather_data = pd.DataFrame(weather_dict)\n",
    "\n",
    "# show the top of the dataframe\n",
    "weather_data.head(10)"
   ]
  },
  {
   "cell_type": "code",
   "execution_count": 15,
   "metadata": {},
   "outputs": [],
   "source": [
    "# Exporting the city data into a csv\n",
    "\n",
    "weather_data.to_csv(\"city_df.csv\")\n"
   ]
  },
  {
   "cell_type": "code",
   "execution_count": 16,
   "metadata": {},
   "outputs": [
    {
     "data": {
      "text/html": [
       "<div>\n",
       "<style scoped>\n",
       "    .dataframe tbody tr th:only-of-type {\n",
       "        vertical-align: middle;\n",
       "    }\n",
       "\n",
       "    .dataframe tbody tr th {\n",
       "        vertical-align: top;\n",
       "    }\n",
       "\n",
       "    .dataframe thead th {\n",
       "        text-align: right;\n",
       "    }\n",
       "</style>\n",
       "<table border=\"1\" class=\"dataframe\">\n",
       "  <thead>\n",
       "    <tr style=\"text-align: right;\">\n",
       "      <th></th>\n",
       "      <th>Lat</th>\n",
       "      <th>Lng</th>\n",
       "      <th>Max Temp</th>\n",
       "      <th>Humidity</th>\n",
       "      <th>Cloudiness</th>\n",
       "      <th>Wind Speed</th>\n",
       "      <th>Date</th>\n",
       "    </tr>\n",
       "  </thead>\n",
       "  <tbody>\n",
       "    <tr>\n",
       "      <th>count</th>\n",
       "      <td>563.000000</td>\n",
       "      <td>563.000000</td>\n",
       "      <td>563.000000</td>\n",
       "      <td>563.000000</td>\n",
       "      <td>563.000000</td>\n",
       "      <td>563.000000</td>\n",
       "      <td>5.630000e+02</td>\n",
       "    </tr>\n",
       "    <tr>\n",
       "      <th>mean</th>\n",
       "      <td>19.235542</td>\n",
       "      <td>15.290018</td>\n",
       "      <td>63.446039</td>\n",
       "      <td>72.321492</td>\n",
       "      <td>52.673179</td>\n",
       "      <td>7.989165</td>\n",
       "      <td>1.601527e+09</td>\n",
       "    </tr>\n",
       "    <tr>\n",
       "      <th>std</th>\n",
       "      <td>33.977562</td>\n",
       "      <td>90.254395</td>\n",
       "      <td>16.204571</td>\n",
       "      <td>19.659685</td>\n",
       "      <td>38.802398</td>\n",
       "      <td>5.263651</td>\n",
       "      <td>9.007133e+01</td>\n",
       "    </tr>\n",
       "    <tr>\n",
       "      <th>min</th>\n",
       "      <td>-54.800000</td>\n",
       "      <td>-175.200000</td>\n",
       "      <td>10.990000</td>\n",
       "      <td>9.000000</td>\n",
       "      <td>0.000000</td>\n",
       "      <td>0.340000</td>\n",
       "      <td>1.601526e+09</td>\n",
       "    </tr>\n",
       "    <tr>\n",
       "      <th>25%</th>\n",
       "      <td>-8.800000</td>\n",
       "      <td>-64.850000</td>\n",
       "      <td>52.000000</td>\n",
       "      <td>61.000000</td>\n",
       "      <td>12.000000</td>\n",
       "      <td>3.990000</td>\n",
       "      <td>1.601527e+09</td>\n",
       "    </tr>\n",
       "    <tr>\n",
       "      <th>50%</th>\n",
       "      <td>21.110000</td>\n",
       "      <td>18.270000</td>\n",
       "      <td>64.400000</td>\n",
       "      <td>76.000000</td>\n",
       "      <td>61.000000</td>\n",
       "      <td>6.710000</td>\n",
       "      <td>1.601527e+09</td>\n",
       "    </tr>\n",
       "    <tr>\n",
       "      <th>75%</th>\n",
       "      <td>48.895000</td>\n",
       "      <td>88.965000</td>\n",
       "      <td>76.625000</td>\n",
       "      <td>87.500000</td>\n",
       "      <td>90.000000</td>\n",
       "      <td>11.410000</td>\n",
       "      <td>1.601527e+09</td>\n",
       "    </tr>\n",
       "    <tr>\n",
       "      <th>max</th>\n",
       "      <td>78.220000</td>\n",
       "      <td>179.320000</td>\n",
       "      <td>96.800000</td>\n",
       "      <td>100.000000</td>\n",
       "      <td>100.000000</td>\n",
       "      <td>25.280000</td>\n",
       "      <td>1.601527e+09</td>\n",
       "    </tr>\n",
       "  </tbody>\n",
       "</table>\n",
       "</div>"
      ],
      "text/plain": [
       "              Lat         Lng    Max Temp    Humidity  Cloudiness  Wind Speed  \\\n",
       "count  563.000000  563.000000  563.000000  563.000000  563.000000  563.000000   \n",
       "mean    19.235542   15.290018   63.446039   72.321492   52.673179    7.989165   \n",
       "std     33.977562   90.254395   16.204571   19.659685   38.802398    5.263651   \n",
       "min    -54.800000 -175.200000   10.990000    9.000000    0.000000    0.340000   \n",
       "25%     -8.800000  -64.850000   52.000000   61.000000   12.000000    3.990000   \n",
       "50%     21.110000   18.270000   64.400000   76.000000   61.000000    6.710000   \n",
       "75%     48.895000   88.965000   76.625000   87.500000   90.000000   11.410000   \n",
       "max     78.220000  179.320000   96.800000  100.000000  100.000000   25.280000   \n",
       "\n",
       "               Date  \n",
       "count  5.630000e+02  \n",
       "mean   1.601527e+09  \n",
       "std    9.007133e+01  \n",
       "min    1.601526e+09  \n",
       "25%    1.601527e+09  \n",
       "50%    1.601527e+09  \n",
       "75%    1.601527e+09  \n",
       "max    1.601527e+09  "
      ]
     },
     "execution_count": 16,
     "metadata": {},
     "output_type": "execute_result"
    }
   ],
   "source": [
    "weather_data.describe()"
   ]
  },
  {
   "cell_type": "markdown",
   "metadata": {},
   "source": [
    "## Inspect the data and remove the cities where the humidity > 100%.\n",
    "----\n",
    "Skip this step if there are no cities that have humidity > 100%. "
   ]
  },
  {
   "cell_type": "code",
   "execution_count": 49,
   "metadata": {},
   "outputs": [],
   "source": [
    "clean_data = weather_data.loc[weather_data['Humidity']<100]"
   ]
  },
  {
   "cell_type": "code",
   "execution_count": 50,
   "metadata": {},
   "outputs": [
    {
     "data": {
      "text/html": [
       "<div>\n",
       "<style scoped>\n",
       "    .dataframe tbody tr th:only-of-type {\n",
       "        vertical-align: middle;\n",
       "    }\n",
       "\n",
       "    .dataframe tbody tr th {\n",
       "        vertical-align: top;\n",
       "    }\n",
       "\n",
       "    .dataframe thead th {\n",
       "        text-align: right;\n",
       "    }\n",
       "</style>\n",
       "<table border=\"1\" class=\"dataframe\">\n",
       "  <thead>\n",
       "    <tr style=\"text-align: right;\">\n",
       "      <th></th>\n",
       "      <th>City</th>\n",
       "      <th>Country</th>\n",
       "      <th>Lat</th>\n",
       "      <th>Lng</th>\n",
       "      <th>Max Temp</th>\n",
       "      <th>Humidity</th>\n",
       "      <th>Cloudiness</th>\n",
       "      <th>Wind Speed</th>\n",
       "      <th>Date</th>\n",
       "    </tr>\n",
       "  </thead>\n",
       "  <tbody>\n",
       "    <tr>\n",
       "      <th>0</th>\n",
       "      <td>Cape Town</td>\n",
       "      <td>ZA</td>\n",
       "      <td>-33.93</td>\n",
       "      <td>18.42</td>\n",
       "      <td>55.99</td>\n",
       "      <td>62</td>\n",
       "      <td>75</td>\n",
       "      <td>20.80</td>\n",
       "      <td>1601526849</td>\n",
       "    </tr>\n",
       "    <tr>\n",
       "      <th>1</th>\n",
       "      <td>Mushie</td>\n",
       "      <td>CD</td>\n",
       "      <td>-3.02</td>\n",
       "      <td>16.90</td>\n",
       "      <td>71.73</td>\n",
       "      <td>94</td>\n",
       "      <td>100</td>\n",
       "      <td>2.37</td>\n",
       "      <td>1601527074</td>\n",
       "    </tr>\n",
       "    <tr>\n",
       "      <th>3</th>\n",
       "      <td>Mar del Plata</td>\n",
       "      <td>AR</td>\n",
       "      <td>-38.00</td>\n",
       "      <td>-57.56</td>\n",
       "      <td>55.00</td>\n",
       "      <td>81</td>\n",
       "      <td>62</td>\n",
       "      <td>9.17</td>\n",
       "      <td>1601527075</td>\n",
       "    </tr>\n",
       "    <tr>\n",
       "      <th>4</th>\n",
       "      <td>Bambous Virieux</td>\n",
       "      <td>MU</td>\n",
       "      <td>-20.34</td>\n",
       "      <td>57.76</td>\n",
       "      <td>75.99</td>\n",
       "      <td>78</td>\n",
       "      <td>20</td>\n",
       "      <td>6.93</td>\n",
       "      <td>1601527075</td>\n",
       "    </tr>\n",
       "    <tr>\n",
       "      <th>5</th>\n",
       "      <td>Pauini</td>\n",
       "      <td>BR</td>\n",
       "      <td>-7.71</td>\n",
       "      <td>-66.98</td>\n",
       "      <td>70.92</td>\n",
       "      <td>98</td>\n",
       "      <td>100</td>\n",
       "      <td>1.50</td>\n",
       "      <td>1601527076</td>\n",
       "    </tr>\n",
       "  </tbody>\n",
       "</table>\n",
       "</div>"
      ],
      "text/plain": [
       "              City Country    Lat    Lng  Max Temp  Humidity  Cloudiness  \\\n",
       "0        Cape Town      ZA -33.93  18.42     55.99        62          75   \n",
       "1           Mushie      CD  -3.02  16.90     71.73        94         100   \n",
       "3    Mar del Plata      AR -38.00 -57.56     55.00        81          62   \n",
       "4  Bambous Virieux      MU -20.34  57.76     75.99        78          20   \n",
       "5           Pauini      BR  -7.71 -66.98     70.92        98         100   \n",
       "\n",
       "   Wind Speed        Date  \n",
       "0       20.80  1601526849  \n",
       "1        2.37  1601527074  \n",
       "3        9.17  1601527075  \n",
       "4        6.93  1601527075  \n",
       "5        1.50  1601527076  "
      ]
     },
     "execution_count": 50,
     "metadata": {},
     "output_type": "execute_result"
    }
   ],
   "source": [
    "clean_data.head()"
   ]
  },
  {
   "cell_type": "code",
   "execution_count": 51,
   "metadata": {},
   "outputs": [],
   "source": [
    "# Exporting the updated data into a csv\n",
    "\n",
    "clean_data.to_csv(\"clean_data.csv\")\n",
    "\n"
   ]
  },
  {
   "cell_type": "markdown",
   "metadata": {},
   "source": [
    "## Plotting the Data\n",
    "* Use proper labeling of the plots using plot titles (including date of analysis) and axes labels.\n",
    "* Save the plotted figures as .pngs."
   ]
  },
  {
   "cell_type": "markdown",
   "metadata": {},
   "source": [
    "## Latitude vs. Temperature Plot"
   ]
  },
  {
   "cell_type": "code",
   "execution_count": 68,
   "metadata": {
    "scrolled": true
   },
   "outputs": [
    {
     "name": "stdout",
     "output_type": "stream",
     "text": [
      "The latitude or location of the equator greatly affects the maximum temperature at each area. The closer the cities are to the equator, the hotter it gets. \n"
     ]
    },
    {
     "data": {
      "image/png": "[encoded data removed]",
      "text/plain": [
       "<Figure size 432x288 with 1 Axes>"
      ]
     },
     "metadata": {
      "needs_background": "light"
     },
     "output_type": "display_data"
    }
   ],
   "source": [
    "# Create Latitude vs. Temperature Plot scatter plot\n",
    "plt.scatter(weather_dict[\"Lat\"], weather_dict[\"Max Temp\"], facecolor = \"steelblue\", edgecolor = \"black\")\n",
    "\n",
    "#Graph labels\n",
    "plt.title(\"City Latitude vs. Max Temperature (04/01/20)\")\n",
    "plt.xlabel(\"Latitude\")\n",
    "plt.ylabel(\"Max Temperature (F)\")\n",
    "plt.grid(linestyle='-', linewidth=1, alpha = 0.5)\n",
    "# Save the plotted figure as .pngs\n",
    "plt.savefig(\"../Images/City Latitude vs Max Temperature.png\")\n",
    "print(\"The latitude or location of the equator greatly affects the maximum temperature at each area. The closer the cities are to the equator, the hotter it gets. \")\n"
   ]
  },
  {
   "cell_type": "markdown",
   "metadata": {},
   "source": [
    "## Latitude vs. Humidity Plot"
   ]
  },
  {
   "cell_type": "code",
   "execution_count": 69,
   "metadata": {},
   "outputs": [
    {
     "name": "stdout",
     "output_type": "stream",
     "text": [
      "While it appears to be humidity everywhere regardless of whether it's closer to the equator or not, it does show that where the equator lies (0) humidity is really high. It's never low unless it's a little farther from 0. \n"
     ]
    },
    {
     "data": {
      "image/png": "[encoded data removed]",
      "text/plain": [
       "<Figure size 432x288 with 1 Axes>"
      ]
     },
     "metadata": {
      "needs_background": "light"
     },
     "output_type": "display_data"
    }
   ],
   "source": [
    "# Create Latitude vs. Humidity Plot scatter plot\n",
    "plt.scatter(weather_dict[\"Lat\"], weather_dict[\"Humidity\"], facecolor = \"steelblue\", edgecolor = \"black\")\n",
    "\n",
    "#Data labels\n",
    "plt.title(\"City Latitude vs. Humidity (04/01/20)\")\n",
    "plt.xlabel(\"Latitude\")\n",
    "plt.ylabel(\"Humidity (%)\")\n",
    "plt.grid(linestyle='-', linewidth=1, alpha = 0.5)\n",
    "\n",
    "# Save the plotted figure as .pngs\n",
    "plt.savefig(\"../Images/City Latitude vs Humidity.png\")\n",
    "print(\"While it appears to be humidity everywhere regardless of whether it's closer to the equator or not, it does show that where the equator lies (0) humidity is really high. It's never low unless it's a little farther from 0. \")"
   ]
  },
  {
   "cell_type": "markdown",
   "metadata": {},
   "source": [
    "## Latitude vs. Cloudiness Plot"
   ]
  },
  {
   "cell_type": "code",
   "execution_count": 71,
   "metadata": {},
   "outputs": [
    {
     "name": "stdout",
     "output_type": "stream",
     "text": [
      "Latitude has no effect or any form of relationship with a regions' cloudiness.  \n"
     ]
    },
    {
     "data": {
      "image/png": "[encoded data removed]",
      "text/plain": [
       "<Figure size 432x288 with 1 Axes>"
      ]
     },
     "metadata": {
      "needs_background": "light"
     },
     "output_type": "display_data"
    }
   ],
   "source": [
    "# Create Latitude vs. Humidity Plot scatter plot\n",
    "plt.scatter(weather_dict[\"Lat\"], weather_dict[\"Cloudiness\"], facecolor = \"steelblue\", edgecolor = \"black\")\n",
    "\n",
    "#Data labels\n",
    "plt.title(\"City Latitude vs. Cloudiness (04/01/20)\")\n",
    "plt.xlabel(\"Latitude\")\n",
    "plt.ylabel(\"Cloudiness (%)\")\n",
    "plt.grid(linestyle='-', linewidth=1, alpha = 0.5)\n",
    "\n",
    "# Save the plotted figure as .pngs\n",
    "plt.savefig(\"../Images/City Latitude vs Cloudiness.png\")\n",
    "print(\"Latitude has no effect or any form of relationship with a regions' cloudiness.  \")"
   ]
  },
  {
   "cell_type": "markdown",
   "metadata": {},
   "source": [
    "## Latitude vs. Wind Speed Plot"
   ]
  },
  {
   "cell_type": "code",
   "execution_count": 37,
   "metadata": {},
   "outputs": [
    {
     "data": {
      "image/png": "[encoded data removed]",
      "text/plain": [
       "<Figure size 432x288 with 1 Axes>"
      ]
     },
     "metadata": {
      "needs_background": "light"
     },
     "output_type": "display_data"
    }
   ],
   "source": [
    "# Create Latitude vs. Wind Speed scatter plot\n",
    "plt.scatter(weather_dict[\"Lat\"], weather_dict[\"Wind Speed\"], facecolor = \"steelblue\", edgecolor = \"black\")\n",
    "plt.title(\"City Latitude vs. Wind Speed (04/01/20)\")\n",
    "\n",
    "# Data Labels\n",
    "plt.xlabel(\"Latitude\")\n",
    "plt.ylabel(\"Wind Speed (mph)\")\n",
    "plt.ylim(-2,50)\n",
    "plt.grid(linestyle='-', linewidth=1, alpha = 0.5)\n",
    "\n",
    "# Save the plotted figure as .pngs\n",
    "plt.savefig(\"../Images/City Latitude vs Wind Speed (mph).png\")\n",
    "print(\"Just like Cloudiness, Wind speed isn't affected by the latitudes. The only thing clear from the scatter plot is that wind speed doesn't exceed 40mph \")"
   ]
  },
  {
   "cell_type": "markdown",
   "metadata": {},
   "source": [
    "## Linear Regression"
   ]
  },
  {
   "cell_type": "code",
   "execution_count": 38,
   "metadata": {},
   "outputs": [],
   "source": [
    "# Create Northern and Southern Hemisphere DataFrames\n",
    "northern_hemisphere = weather_data.loc[weather_data[\"Lat\"] >= 0]\n",
    "southern_hemisphere = weather_data.loc[weather_data[\"Lat\"] < 0]"
   ]
  },
  {
   "cell_type": "code",
   "execution_count": 39,
   "metadata": {},
   "outputs": [],
   "source": [
    "# Define function for creating linear agression and scatter plot\n",
    "def linear_agression(x,y):\n",
    "    print(f\"The r-squared is : {round(st.pearsonr(x, y)[0],2)}\")\n",
    "    (slope, intercept, rvalue, pvalue, stderr) = linregress(x, y)\n",
    "    regress_values = x * slope + intercept\n",
    "    line_eq = \"y = \" + str(round(slope,2)) + \"x + \" + str(round(intercept,2))\n",
    "    plt.scatter(x, y)\n",
    "    plt.plot(x,regress_values,\"r-\")\n",
    "    return line_eq\n",
    "\n",
    "# Define a fuction for annotating\n",
    "def annotate(line_eq, a, b):\n",
    "    plt.annotate(line_eq,(a,b),fontsize=15,color=\"red\")"
   ]
  },
  {
   "cell_type": "markdown",
   "metadata": {},
   "source": [
    "####  Northern Hemisphere - Max Temp vs. Latitude Linear Regression"
   ]
  },
  {
   "cell_type": "code",
   "execution_count": 73,
   "metadata": {},
   "outputs": [
    {
     "name": "stdout",
     "output_type": "stream",
     "text": [
      "There is a strong negative correlation between latitude and max temperature for northern hemisphere. As the latitude moves away from 0, it drops from max temperature hence a negative correlation.\n"
     ]
    },
    {
     "data": {
      "image/png": "[encoded data removed]",
      "text/plain": [
       "<Figure size 432x288 with 1 Axes>"
      ]
     },
     "metadata": {
      "needs_background": "light"
     },
     "output_type": "display_data"
    }
   ],
   "source": [
    "#Create a Scatter Plot for Lattitude vs Temperature of City\n",
    "x_values = northern_hemisphere['Lat']\n",
    "y_values = northern_hemisphere['Max Temp']\n",
    "(slope, intercept, rvalue, pvalue, stderr) = linregress(x_values, y_values)\n",
    "regress_values = x_values * slope + intercept\n",
    "line_eq = \"y = \" + str(round(slope,2)) + \"x + \" + str(round(intercept,2))\n",
    "plt.scatter(x_values,y_values)\n",
    "plt.plot(x_values,regress_values,\"red\")\n",
    "plt.annotate(line_eq,(5,10),fontsize=15,color=\"red\")\n",
    "\n",
    "plt.ylim(0,100)\n",
    "plt.xlim(0, 80)\n",
    "\n",
    "plt.ylabel(\"Max. Temp\")\n",
    "plt.xlabel(\"Latitude\")\n",
    "# plt.show()\n",
    "\n",
    "plt.savefig(\"NORTH MAX TEMP VS LAT.png\")\n",
    "print(\"There is a strong negative correlation between latitude and max temperature for northern hemisphere. As the latitude moves away from 0, it drops from max temperature hence a negative correlation.\")"
   ]
  },
  {
   "cell_type": "markdown",
   "metadata": {},
   "source": [
    "####  Southern Hemisphere - Max Temp vs. Latitude Linear Regression"
   ]
  },
  {
   "cell_type": "code",
   "execution_count": 74,
   "metadata": {},
   "outputs": [
    {
     "name": "stdout",
     "output_type": "stream",
     "text": [
      "There is a moderate positive correlation between latitude and max temperature for southern hemisphere. As it gets closer to the equator, the max temp increases.\n"
     ]
    },
    {
     "data": {
      "image/png": "[encoded data removed]",
      "text/plain": [
       "<Figure size 432x288 with 1 Axes>"
      ]
     },
     "metadata": {
      "needs_background": "light"
     },
     "output_type": "display_data"
    }
   ],
   "source": [
    "#Create a Scatter Plot for Lattitude vs Temperature of City (Southern Hemisphere)\n",
    "x_values = southern_hemisphere['Lat']\n",
    "y_values = southern_hemisphere['Max Temp']\n",
    "(slope, intercept, rvalue, pvalue, stderr) = linregress(x_values, y_values)\n",
    "regress_values = x_values * slope + intercept\n",
    "line_eq = \"y = \" + str(round(slope,2)) + \"x + \" + str(round(intercept,2))\n",
    "plt.scatter(x_values,y_values)\n",
    "plt.plot(x_values,regress_values,\"r-\")\n",
    "plt.annotate(line_eq,(6,10),fontsize=15,color=\"red\")\n",
    "\n",
    "plt.ylim(30, 100)\n",
    "plt.xlim (-50, 0, 10)\n",
    "\n",
    "plt.ylabel(\"Max. Temp\")\n",
    "plt.xlabel(\"Latitude\")\n",
    "# plt.show()\n",
    "\n",
    "plt.savefig(\"SOUTH MAX TEMP VS LAT.png\")\n",
    "print(\"There is a moderate positive correlation between latitude and max temperature for southern hemisphere. As it gets closer to the equator, the max temp increases.\")"
   ]
  },
  {
   "cell_type": "markdown",
   "metadata": {},
   "source": [
    "####  Northern Hemisphere - Humidity (%) vs. Latitude Linear Regression"
   ]
  },
  {
   "cell_type": "code",
   "execution_count": 80,
   "metadata": {},
   "outputs": [
    {
     "name": "stdout",
     "output_type": "stream",
     "text": [
      "Still a positive correlation between the latitude and humidity in the Northern Hemisphere.\n"
     ]
    },
    {
     "data": {
      "image/png": "[encoded data removed]",
      "text/plain": [
       "<Figure size 432x288 with 1 Axes>"
      ]
     },
     "metadata": {
      "needs_background": "light"
     },
     "output_type": "display_data"
    }
   ],
   "source": [
    "x_values = northern_hemisphere['Lat']\n",
    "y_values = northern_hemisphere['Humidity']\n",
    "(slope, intercept, rvalue, pvalue, stderr) = linregress(x_values, y_values)\n",
    "regress_values = x_values * slope + intercept\n",
    "line_eq = \"y = \" + str(round(slope,2)) + \"x + \" + str(round(intercept,2))\n",
    "plt.scatter(x_values,y_values)\n",
    "plt.plot(x_values,regress_values,\"r-\")\n",
    "plt.annotate(line_eq,(6,10),fontsize=15,color=\"red\")\n",
    "plt.ylabel(\"Humidity\")\n",
    "plt.xlabel(\"Latitude\")\n",
    "# plt.show()\n",
    "\n",
    "plt.savefig(\"NORTH HUMIDITY VS LAT.png\")\n",
    "print(\"Still a positive correlation between the latitude and humidity in the Northern Hemisphere.\")"
   ]
  },
  {
   "cell_type": "markdown",
   "metadata": {},
   "source": [
    "####  Southern Hemisphere - Humidity (%) vs. Latitude Linear Regression"
   ]
  },
  {
   "cell_type": "code",
   "execution_count": 79,
   "metadata": {},
   "outputs": [
    {
     "name": "stdout",
     "output_type": "stream",
     "text": [
      "There is a moderate positive correlation between latitude and humidity for southern hemisphere.\n"
     ]
    },
    {
     "data": {
      "image/png": "[encoded data removed]",
      "text/plain": [
       "<Figure size 432x288 with 1 Axes>"
      ]
     },
     "metadata": {
      "needs_background": "light"
     },
     "output_type": "display_data"
    }
   ],
   "source": [
    "x_values = southern_hemisphere['Lat']\n",
    "y_values = southern_hemisphere['Humidity']\n",
    "(slope, intercept, rvalue, pvalue, stderr) = linregress(x_values, y_values)\n",
    "regress_values = x_values * slope + intercept\n",
    "line_eq = \"y = \" + str(round(slope,2)) + \"x + \" + str(round(intercept,2))\n",
    "plt.scatter(x_values,y_values)\n",
    "plt.plot(x_values,regress_values,\"r-\")\n",
    "plt.annotate(line_eq,(-25,10),fontsize=15,color=\"red\")\n",
    "\n",
    "plt.ylim(0, 100)\n",
    "\n",
    "plt.ylabel(\"Humidity\")\n",
    "plt.xlabel(\"Latitude\")\n",
    "# plt.show()\n",
    "\n",
    "plt.savefig(\"SOUTH HUMIDITY VS LAT.png\")\n",
    "print(\"There is a moderate positive correlation between latitude and humidity for southern hemisphere.\")"
   ]
  },
  {
   "cell_type": "markdown",
   "metadata": {},
   "source": [
    "####  Northern Hemisphere - Cloudiness (%) vs. Latitude Linear Regression"
   ]
  },
  {
   "cell_type": "code",
   "execution_count": 78,
   "metadata": {},
   "outputs": [
    {
     "name": "stdout",
     "output_type": "stream",
     "text": [
      "A weak positive correlation between latitude and cloudiness for northern hemisphere.\n"
     ]
    },
    {
     "data": {
      "image/png": "[encoded data removed]",
      "text/plain": [
       "<Figure size 432x288 with 1 Axes>"
      ]
     },
     "metadata": {
      "needs_background": "light"
     },
     "output_type": "display_data"
    }
   ],
   "source": [
    "x_values = northern_hemisphere['Lat']\n",
    "y_values = northern_hemisphere['Cloudiness']\n",
    "(slope, intercept, rvalue, pvalue, stderr) = linregress(x_values, y_values)\n",
    "regress_values = x_values * slope + intercept\n",
    "line_eq = \"y = \" + str(round(slope,2)) + \"x + \" + str(round(intercept,2))\n",
    "plt.scatter(x_values,y_values)\n",
    "plt.plot(x_values,regress_values,\"r-\")\n",
    "plt.annotate(line_eq,(6,10),fontsize=15,color=\"red\")\n",
    "plt.ylabel(\"Cloudiness\")\n",
    "plt.xlabel(\"Latitude\")\n",
    "# plt.show()\n",
    "\n",
    "plt.savefig(\"NORTH CLOUDS VS LAT.png\")\n",
    "print(\"A weak positive correlation between latitude and cloudiness for northern hemisphere.\")"
   ]
  },
  {
   "cell_type": "markdown",
   "metadata": {},
   "source": [
    "####  Southern Hemisphere - Cloudiness (%) vs. Latitude Linear Regression"
   ]
  },
  {
   "cell_type": "code",
   "execution_count": 75,
   "metadata": {},
   "outputs": [
    {
     "name": "stdout",
     "output_type": "stream",
     "text": [
      "A weak positive correlation between latitude and cloudiness in the southern hemisphere.\n"
     ]
    },
    {
     "data": {
      "image/png": "[encoded data removed]",
      "text/plain": [
       "<Figure size 432x288 with 1 Axes>"
      ]
     },
     "metadata": {
      "needs_background": "light"
     },
     "output_type": "display_data"
    }
   ],
   "source": [
    "x_values = southern_hemisphere['Lat']\n",
    "y_values = southern_hemisphere['Cloudiness']\n",
    "(slope, intercept, rvalue, pvalue, stderr) = linregress(x_values, y_values)\n",
    "regress_values = x_values * slope + intercept\n",
    "line_eq = \"y = \" + str(round(slope,2)) + \"x + \" + str(round(intercept,2))\n",
    "plt.scatter(x_values,y_values)\n",
    "plt.plot(x_values,regress_values,\"r-\")\n",
    "plt.annotate(line_eq,(-25,10),fontsize=15,color=\"red\")\n",
    "plt.ylabel(\"Cloudiness\")\n",
    "plt.xlabel(\"Latitude\")\n",
    "# plt.show()\n",
    "\n",
    "plt.savefig(\"SOUTH CLOUDS VS LAT.png\")\n",
    "print(\"A weak positive correlation between latitude and cloudiness in the southern hemisphere.\")"
   ]
  },
  {
   "cell_type": "markdown",
   "metadata": {},
   "source": [
    "####  Northern Hemisphere - Wind Speed (mph) vs. Latitude Linear Regression"
   ]
  },
  {
   "cell_type": "code",
   "execution_count": 76,
   "metadata": {},
   "outputs": [
    {
     "name": "stdout",
     "output_type": "stream",
     "text": [
      "The correlation between latitude and windspeed for northern hemisphere is positive eventhough it's weak.\n"
     ]
    },
    {
     "data": {
      "image/png": "[encoded data removed]",
      "text/plain": [
       "<Figure size 432x288 with 1 Axes>"
      ]
     },
     "metadata": {
      "needs_background": "light"
     },
     "output_type": "display_data"
    }
   ],
   "source": [
    "x_values = northern_hemisphere['Lat']\n",
    "y_values = northern_hemisphere['Wind Speed']\n",
    "(slope, intercept, rvalue, pvalue, stderr) = linregress(x_values, y_values)\n",
    "regress_values = x_values * slope + intercept\n",
    "line_eq = \"y = \" + str(round(slope,2)) + \"x + \" + str(round(intercept,2))\n",
    "plt.scatter(x_values,y_values)\n",
    "plt.plot(x_values,regress_values,\"r-\")\n",
    "plt.annotate(line_eq,(45,22),fontsize=15,color=\"red\")\n",
    "plt.ylabel(\"Cloudiness\")\n",
    "plt.xlabel(\"Latitude\")\n",
    "# plt.show()\n",
    "\n",
    "plt.savefig(\"NORTH WIND VS LAT.png\")\n",
    "print(\"The correlation between latitude and windspeed for northern hemisphere is positive eventhough it's weak.\")"
   ]
  },
  {
   "cell_type": "markdown",
   "metadata": {},
   "source": [
    "####  Southern Hemisphere - Wind Speed (mph) vs. Latitude Linear Regression"
   ]
  },
  {
   "cell_type": "code",
   "execution_count": 77,
   "metadata": {},
   "outputs": [
    {
     "name": "stdout",
     "output_type": "stream",
     "text": [
      "There is a weak negative correlation between latitude and wind speed for southern hemisphere.\n"
     ]
    },
    {
     "data": {
      "image/png": "[encoded data removed]",
      "text/plain": [
       "<Figure size 432x288 with 1 Axes>"
      ]
     },
     "metadata": {
      "needs_background": "light"
     },
     "output_type": "display_data"
    }
   ],
   "source": [
    "x_values = southern_hemisphere['Lat']\n",
    "y_values = southern_hemisphere['Wind Speed']\n",
    "(slope, intercept, rvalue, pvalue, stderr) = linregress(x_values, y_values)\n",
    "regress_values = x_values * slope + intercept\n",
    "line_eq = \"y = \" + str(round(slope,2)) + \"x + \" + str(round(intercept,2))\n",
    "plt.scatter(x_values,y_values)\n",
    "plt.plot(x_values,regress_values,\"r-\")\n",
    "plt.annotate(line_eq,(-25,25),fontsize=15,color=\"red\")\n",
    "plt.ylabel(\"Cloudiness\")\n",
    "plt.xlabel(\"Latitude\")\n",
    "# plt.show()\n",
    "\n",
    "plt.savefig(\"SOUTH WIND VS LAT.png\")\n",
    "print(\"There is a weak negative correlation between latitude and wind speed for southern hemisphere.\")"
   ]
  },
  {
   "cell_type": "code",
   "execution_count": null,
   "metadata": {},
   "outputs": [],
   "source": []
  }
 ],
 "metadata": {
  "anaconda-cloud": {},
  "kernel_info": {
   "name": "python3"
  },
  "kernelspec": {
   "display_name": "Python 3",
   "language": "python",
   "name": "python3"
  },
  "language_info": {
   "codemirror_mode": {
    "name": "ipython",
    "version": 3
   },
   "file_extension": ".py",
   "mimetype": "text/x-python",
   "name": "python",
   "nbconvert_exporter": "python",
   "pygments_lexer": "ipython3",
   "version": "3.8.3"
  },
  "latex_envs": {
   "LaTeX_envs_menu_present": true,
   "autoclose": false,
   "autocomplete": true,
   "bibliofile": "biblio.bib",
   "cite_by": "apalike",
   "current_citInitial": 1,
   "eqLabelWithNumbers": true,
   "eqNumInitial": 1,
   "hotkeys": {
    "equation": "Ctrl-E",
    "itemize": "Ctrl-I"
   },
   "labels_anchors": false,
   "latex_user_defs": false,
   "report_style_numbering": false,
   "user_envs_cfg": false
  },
  "nteract": {
   "version": "0.12.3"
  }
 },
 "nbformat": 4,
 "nbformat_minor": 2
}
